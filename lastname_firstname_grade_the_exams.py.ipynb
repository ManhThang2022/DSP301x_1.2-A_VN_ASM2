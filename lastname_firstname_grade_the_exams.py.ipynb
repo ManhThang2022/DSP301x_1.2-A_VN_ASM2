{
 "cells": [
  {
   "cell_type": "code",
   "execution_count": 2,
   "id": "b1b950b4",
   "metadata": {},
   "outputs": [],
   "source": [
    "import re\n",
    "import pandas as pd\n",
    "import numpy as np"
   ]
  },
  {
   "cell_type": "code",
   "execution_count": 243,
   "id": "5708d875",
   "metadata": {},
   "outputs": [
    {
     "name": "stdout",
     "output_type": "stream",
     "text": [
      "['N00000001,A,A,D,D,C,D,D,A,,C,D,B,C,,B,C,B,D,A,C,,A,,C,D\\n', 'N00000002,,A,,D,,B,D,A,C,C,D,,A,A,A,C,B,D,C,C,A,A,B,,D\\n', 'N00000003,B,A,,D,C,B,D,A,C,C,,B,A,B,A,C,B,D,A,,A,,B,D,D\\n', 'N00000004,B,B,D,,,B,D,A,C,C,D,B,A,B,A,C,B,D,,C,A,D,B,C,D\\n', 'N00000005,B,A,,D,,B,D,A,C,C,D,B,A,B,A,C,B,D,D,C,A,A,,D,D\\n', 'N00000006,B,A,D,A,C,B,D,A,C,C,C,B,A,D,A,C,,C,A,C,A,C,B,D,A\\n', 'N00000007,B,A,D,D,C,B,D,A,C,,D,B,A,B,A,C,B,D,,C,A,A,B,D,\\n', 'N00000008,A,A,D,D,C,,D,A,C,C,B,C,A,B,A,A,B,D,A,C,A,,B,B,D\\n', 'N00000009,B,A,,D,C,B,D,A,C,A,D,B,A,B,A,A,B,D,A,C,A,A,B,D,D\\n', 'N00000010,,A,D,B,C,B,D,A,C,C,D,B,A,B,A,C,B,D,A,D,,,B,D,B\\n', 'N00000011,B,A,D,,C,B,D,A,C,D,D,B,A,B,A,C,B,D,A,C,A,B,B,D,D\\n', 'N00000012,B,,D,D,C,B,D,A,C,C,D,B,A,B,A,A,B,D,A,,A,A,A,,C\\n', 'N00000013,,A,D,,B,B,,A,C,A,D,B,A,B,D,C,B,D,A,C,A,A,B,D,D\\n', 'N00000014,B,B,D,D,C,B,,D,C,C,D,B,A,B,A,C,,D,A,C,A,A,,D,D\\n', 'N00000015,A,C,C,D,C,B,,A,C,C,D,B,A,B,A,C,B,D,A,C,A,B,,D,D\\n', 'N00000016,B,A,C,D,,B,D,A,C,C,D,B,A,B,A,C,B,D,A,C,A,A,B,D,D\\n', 'N00000017,B,A,D,D,C,B,C,A,D,C,D,A,A,D,A,C,B,D,D,B,,A,B,D,D\\n', 'N00000018,B,A,D,A,C,B,D,A,C,C,D,B,A,B,,,B,D,A,B,A,A,B,,D\\n', 'N00000019,B,A,D,D,C,B,D,C,C,C,,B,,B,D,C,B,D,A,,A,A,B,D,D\\n', 'N00000020,B,,D,D,C,B,D,A,C,B,,,A,C,A,D,B,D,B,C,A,A,B,D,D\\n', 'N000000203,B,,D,D,C,B,D,A,C,B,,,A,C,A,D,B,D,B,C,A,A,B,D,D\\n', 'N000000204,B,,D,D,C,B,D,A,C,B,,,A,C,A,D,B,D,B,C,A,A,B,D,D,L,K\\n', 'N0000025,B,,D,D,C,B,D,A,C,B,,,A,C,A,D,B,D,B,C,A,A,B,D,D,L,K\\n', 'N0000024,B,,D,D,C,B,D,A,C,B,,,A,C,A,D,B,D,B,C,A,A,B,D,D']\n"
     ]
    }
   ],
   "source": [
    "with open('class1.txt','r') as file1:\n",
    "    FileContent = file1.readlines()\n",
    "    print (FileContent)"
   ]
  },
  {
   "cell_type": "code",
   "execution_count": 3,
   "id": "7df7a939",
   "metadata": {},
   "outputs": [],
   "source": [
    "def read_file(rf):\n",
    "    with open(rf,'r') as file:\n",
    "        data = file.read()\n",
    "    return data\n"
   ]
  },
  {
   "cell_type": "code",
   "execution_count": 67,
   "id": "e9923120",
   "metadata": {},
   "outputs": [
    {
     "name": "stdout",
     "output_type": "stream",
     "text": [
      "Enter class file to grade: class1.txt\n",
      "Successfully opened class1.txt\n"
     ]
    }
   ],
   "source": [
    "try:\n",
    "    filename = input('Enter class file to grade: ')\n",
    "    read_file(filename)\n",
    "    print('Successfully opened {}'.format(filename))\n",
    "except:\n",
    "    print('File cannot be found')\n",
    "#data read as str"
   ]
  },
  {
   "cell_type": "code",
   "execution_count": 142,
   "id": "9c71673f",
   "metadata": {
    "scrolled": true
   },
   "outputs": [],
   "source": [
    "def check_code(dulieu):\n",
    "    regex = ('^N[0-9]{8,8}')\n",
    "    x = re.findall(regex,dulieu)\n",
    "    x = ''.join(x)\n",
    "    if x == '' or len(dulieu)>9:\n",
    "        return True\n",
    "    else:\n",
    "        return False\n",
    "# True: invalid id; False: valid id"
   ]
  },
  {
   "cell_type": "code",
   "execution_count": 144,
   "id": "5c3f314d",
   "metadata": {
    "scrolled": true
   },
   "outputs": [
    {
     "data": {
      "text/plain": [
       "False"
      ]
     },
     "execution_count": 144,
     "metadata": {},
     "output_type": "execute_result"
    }
   ],
   "source": [
    "code = 'N12345678'\n",
    "check_code(code)"
   ]
  },
  {
   "cell_type": "code",
   "execution_count": 35,
   "id": "36908731",
   "metadata": {},
   "outputs": [
    {
     "name": "stdout",
     "output_type": "stream",
     "text": [
      "Enter class file to grade: class1.txt\n",
      "Successfully opened class1.txt\n",
      "Total valid data: 20\n",
      "Total invalid data 4\n",
      "[['Invalid ID: N000000203,B,,D,D,C,B,D,A,C,B,,,A,C,A,D,B,D,B,C,A,A,B,D,D'], ['Invalid answers: N000000204,B,,D,D,C,B,D,A,C,B,,,A,C,A,D,B,D,B,C,A,A,B,D,D,L,K'], ['Invalid answers: N0000025,B,,D,D,C,B,D,A,C,B,,,A,C,A,D,B,D,B,C,A,A,B,D,D,L,K'], ['Invalid ID: N0000024,B,,D,D,C,B,D,A,C,B,,,A,C,A,D,B,D,B,C,A,A,B,D,D']]\n"
     ]
    }
   ],
   "source": [
    "Regex = ('^N[0-9]*')\n",
    "process = 0\n",
    "invalid_line = {}\n",
    "\n",
    "try:\n",
    "    filename = input('Enter class file to grade: ')\n",
    "    data = read_file(filename).split('\\n')\n",
    "    print('Successfully opened {}'.format(filename))\n",
    "    for line in data:\n",
    "            process = process + 1\n",
    "            code = re.findall(Regex,line.split(',')[0])\n",
    "            answers = line.split(',')\n",
    "            if check_code(code) == True:\n",
    "                invalid_line[process] = [('Invalid ID: '+line)]\n",
    "            if len(answers) != 26:\n",
    "                invalid_line[process] = [('Invalid answers: ' +line)]\n",
    "    if len(invalid_line.keys())==0:\n",
    "        print('No errors found! \\n **** REPORT **** \\n Total valid data:', process)\n",
    "    else:\n",
    "        print('Total valid data:', process - len(invalid_line.keys()))\n",
    "        print('Total invalid data', len(invalid_line.keys()))\n",
    "        ReportInvalid = list(invalid_line.values())\n",
    "        print(ReportInvalid)\n",
    "except:\n",
    "    print('File cannot be found')\n",
    "    \n",
    "\n",
    " \n"
   ]
  },
  {
   "cell_type": "code",
   "execution_count": 6,
   "id": "05facdfd",
   "metadata": {},
   "outputs": [
    {
     "data": {
      "text/plain": [
       "False"
      ]
     },
     "execution_count": 6,
     "metadata": {},
     "output_type": "execute_result"
    }
   ],
   "source": [
    "a = ['N00000018,B,A,D,A,C,B,D,A,C,C,D,B,A,B,,,B,D,A,B,A,A,B,,D']\n",
    "a[0].split(',')\n",
    "test = re.findall('^N[0-9]*',a[0].split(',')[0])\n",
    "check_code(test)\n"
   ]
  },
  {
   "cell_type": "code",
   "execution_count": 3,
   "id": "6a6bd8c0",
   "metadata": {},
   "outputs": [
    {
     "ename": "NameError",
     "evalue": "name 'line' is not defined",
     "output_type": "error",
     "traceback": [
      "\u001b[0;31m---------------------------------------------------------------------------\u001b[0m",
      "\u001b[0;31mNameError\u001b[0m                                 Traceback (most recent call last)",
      "\u001b[0;32m/var/folders/qy/7s7kmbkx6_q34m9zxphfktb80000gn/T/ipykernel_1010/2226610688.py\u001b[0m in \u001b[0;36m<module>\u001b[0;34m\u001b[0m\n\u001b[1;32m      2\u001b[0m \u001b[0mprocess\u001b[0m \u001b[0;34m=\u001b[0m \u001b[0;36m0\u001b[0m\u001b[0;34m\u001b[0m\u001b[0;34m\u001b[0m\u001b[0m\n\u001b[1;32m      3\u001b[0m \u001b[0minvalid_line\u001b[0m \u001b[0;34m=\u001b[0m \u001b[0;34m{\u001b[0m\u001b[0;34m}\u001b[0m\u001b[0;34m\u001b[0m\u001b[0;34m\u001b[0m\u001b[0m\n\u001b[0;32m----> 4\u001b[0;31m \u001b[0;32mfor\u001b[0m \u001b[0mx\u001b[0m \u001b[0;32min\u001b[0m \u001b[0mline\u001b[0m\u001b[0;34m:\u001b[0m\u001b[0;34m\u001b[0m\u001b[0;34m\u001b[0m\u001b[0m\n\u001b[0m\u001b[1;32m      5\u001b[0m     \u001b[0mprocess\u001b[0m \u001b[0;34m=\u001b[0m \u001b[0mprocess\u001b[0m \u001b[0;34m+\u001b[0m \u001b[0;36m1\u001b[0m\u001b[0;34m\u001b[0m\u001b[0;34m\u001b[0m\u001b[0m\n\u001b[1;32m      6\u001b[0m     \u001b[0mstudent_code\u001b[0m \u001b[0;34m=\u001b[0m \u001b[0mre\u001b[0m\u001b[0;34m.\u001b[0m\u001b[0mfindall\u001b[0m\u001b[0;34m(\u001b[0m\u001b[0mRegex\u001b[0m\u001b[0;34m,\u001b[0m\u001b[0mx\u001b[0m\u001b[0;34m.\u001b[0m\u001b[0msplit\u001b[0m\u001b[0;34m(\u001b[0m\u001b[0;34m','\u001b[0m\u001b[0;34m)\u001b[0m\u001b[0;34m[\u001b[0m\u001b[0;36m0\u001b[0m\u001b[0;34m]\u001b[0m\u001b[0;34m)\u001b[0m\u001b[0;34m\u001b[0m\u001b[0;34m\u001b[0m\u001b[0m\n",
      "\u001b[0;31mNameError\u001b[0m: name 'line' is not defined"
     ]
    }
   ],
   "source": [
    "Regex = ('^N[0-9]{8,8}')\n",
    "process = 0\n",
    "invalid_line = {}\n",
    "for x in line:\n",
    "    process = process + 1\n",
    "    student_code = re.findall(Regex,x.split(',')[0])\n",
    "    answers = x.split(',')\n",
    "    if len(student_code) == 0 or len(x.split(',')[0])>9:\n",
    "        invalid_line[process] = [('Invalid ID:' + x)]\n",
    "        if len(answers) != 26: \n",
    "            invalid_line[process] = [('Invalid answers: '+x)]\n",
    "        \n",
    "invalid_line"
   ]
  },
  {
   "cell_type": "code",
   "execution_count": 156,
   "id": "f7c0b989",
   "metadata": {},
   "outputs": [],
   "source": [
    "def score_funtion(filename):\n",
    "    score_list = {}\n",
    "    answer_key = ['B','A','D','D','C','B','D','A','C','C','D','B','A','B','A','C','B','D','A','C','A','A','B','D','D']\n",
    "    wrong_answer = [0,0,0,0,0,0,0,0,0,0,0,0,0,0,0,0,0,0,0,0,0,0,0,0,0]\n",
    "    omitted_answer = [0,0,0,0,0,0,0,0,0,0,0,0,0,0,0,0,0,0,0,0,0,0,0,0,0]\n",
    "    data = read_file(filename).split('\\n')\n",
    "    for line in data:\n",
    "        code = line.split(',')[0]\n",
    "        answers = line.strip().split(',')[1:]\n",
    "        if check_code(code) == False and len(answers) == 25:\n",
    "            score = 0\n",
    "            for x in range(25):\n",
    "                if answers[x] == '':\n",
    "                    omitted_answer[x] = omitted_answer[x] + 1\n",
    "                else:\n",
    "                    if answers[x] == answer_key[x]:\n",
    "                        score = score + 4\n",
    "                    else:\n",
    "                        score = score - 1\n",
    "                        wrong_answer[x] = wrong_answer[x] + 1\n",
    "                score_list[code] = score\n",
    "High\n",
    "    return score_list,wrong_answer,omitted_answer\n",
    "        \n",
    "        \n",
    "        \n",
    "            \n",
    "        "
   ]
  },
  {
   "cell_type": "code",
   "execution_count": 157,
   "id": "1b91ba65",
   "metadata": {
    "scrolled": true
   },
   "outputs": [
    {
     "data": {
      "text/plain": [
       "({'N00000001': 59,\n",
       "  'N00000002': 70,\n",
       "  'N00000003': 84,\n",
       "  'N00000004': 73,\n",
       "  'N00000005': 83,\n",
       "  'N00000006': 66,\n",
       "  'N00000007': 88,\n",
       "  'N00000008': 67,\n",
       "  'N00000009': 86,\n",
       "  'N00000010': 73,\n",
       "  'N00000011': 86,\n",
       "  'N00000012': 73,\n",
       "  'N00000013': 73,\n",
       "  'N00000014': 78,\n",
       "  'N00000015': 72,\n",
       "  'N00000016': 91,\n",
       "  'N00000017': 66,\n",
       "  'N00000018': 78,\n",
       "  'N00000019': 78,\n",
       "  'N00000020': 68},\n",
       " [3, 3, 2, 3, 1, 1, 1, 2, 1, 4, 2, 2, 1, 4, 3, 4, 0, 1, 4, 3, 0, 4, 1, 3, 3],\n",
       " [3, 2, 4, 3, 4, 1, 3, 0, 1, 1, 3, 2, 1, 1, 1, 1, 2, 0, 2, 3, 3, 3, 4, 3, 1])"
      ]
     },
     "execution_count": 157,
     "metadata": {},
     "output_type": "execute_result"
    }
   ],
   "source": [
    "score_funtion('class1.txt')\n"
   ]
  },
  {
   "cell_type": "code",
   "execution_count": 83,
   "id": "24727ae5",
   "metadata": {},
   "outputs": [
    {
     "data": {
      "text/plain": [
       "25"
      ]
     },
     "execution_count": 83,
     "metadata": {},
     "output_type": "execute_result"
    }
   ],
   "source": [
    "answer_key = ['B','A','D','D','C','B','D','A','C','C','D','B','A','B','A','C','B','D','A','C','A','A','B','D','D']\n",
    "wrong_answer = [0,0,0,0,0,0,0,0,0,0,0,0,0,0,0,0,0,0,0,0,0,0,0,0,0]\n",
    "omitted_answer = [0,0,0,0,0,0,0,0,0,0,0,0,0,0,0,0,0,0,0,0,0,0,0,0,0]\n",
    "\n",
    "len(answer_key)"
   ]
  },
  {
   "cell_type": "code",
   "execution_count": 74,
   "id": "798c2541",
   "metadata": {
    "scrolled": true
   },
   "outputs": [],
   "source": [
    "x = 0\n",
    "list_code = {}\n",
    "data = read_file('class1.txt').split('\\n')\n",
    "for line in data:\n",
    "    x = x + 1\n",
    "    code = line.split(',')[0]\n",
    "    answers = line.strip().split(',')[1:]\n",
    "    list_code[x] = code"
   ]
  },
  {
   "cell_type": "code",
   "execution_count": 88,
   "id": "7e86b061",
   "metadata": {},
   "outputs": [],
   "source": [
    "score = 0\n",
    "for x in range(25):\n",
    "    if answers[x] == '':\n",
    "        omitted_answer[x] = omitted_answer[x] + 1\n",
    "    else:\n",
    "        if answers[x] == answer_key[x]:\n",
    "            score = score + 4\n",
    "        else:\n",
    "            score = score - 1\n",
    "            wrong_answer[x] = wrong_answer[x] + 1\n"
   ]
  },
  {
   "cell_type": "code",
   "execution_count": 92,
   "id": "a51069e4",
   "metadata": {},
   "outputs": [
    {
     "data": {
      "text/plain": [
       "[0, 2, 0, 0, 0, 0, 0, 0, 0, 0, 2, 2, 0, 0, 0, 0, 0, 0, 0, 0, 0, 0, 0, 0, 0]"
      ]
     },
     "execution_count": 92,
     "metadata": {},
     "output_type": "execute_result"
    }
   ],
   "source": [
    "omitted_answer"
   ]
  },
  {
   "cell_type": "code",
   "execution_count": 200,
   "id": "276ccd8c",
   "metadata": {},
   "outputs": [],
   "source": [
    "answer_key = ['B','A','D','D','C','B','D','A','C','C','D','B','A','B','A','C','B','D','A','C','A','A','B','D','D']\n",
    "wrong_answer = [0,0,0,0,0,0,0,0,0,0,0,0,0,0,0,0,0,0,0,0,0,0,0,0,0]\n",
    "omitted_answer = [0,0,0,0,0,0,0,0,0,0,0,0,0,0,0,0,0,0,0,0,0,0,0,0,0]\n",
    "list_code = {}\n",
    "data = read_file('class1.txt').split('\\n')\n",
    "for line in data:\n",
    "    code = line.split(',')[0]\n",
    "    answers = line.strip().split(',')[1:]\n",
    "    score = 0\n",
    "    for x in range(25):\n",
    "        if answers[x] == '':\n",
    "            omitted_answer[x] = omitted_answer[x] + 1\n",
    "        else:\n",
    "            if answers[x] == answer_key[x]:\n",
    "                score = score + 4\n",
    "            else:\n",
    "                score = score - 1\n",
    "                wrong_answer[x] = wrong_answer[x] + 1\n",
    "        list_code[code] = score"
   ]
  },
  {
   "cell_type": "code",
   "execution_count": 164,
   "id": "db241153",
   "metadata": {},
   "outputs": [
    {
     "data": {
      "text/plain": [
       "([3, 6, 4, 3, 4, 1, 3, 0, 1, 1, 7, 6, 1, 1, 1, 1, 2, 0, 2, 3, 3, 3, 4, 3, 1],\n",
       " [3, 3, 2, 3, 1, 1, 1, 2, 1, 8, 2, 2, 1, 8, 3, 8, 0, 1, 8, 3, 0, 4, 1, 3, 3])"
      ]
     },
     "execution_count": 164,
     "metadata": {},
     "output_type": "execute_result"
    }
   ],
   "source": [
    "omitted_answer,wrong_answer"
   ]
  },
  {
   "cell_type": "code",
   "execution_count": 201,
   "id": "de1aeab8",
   "metadata": {},
   "outputs": [
    {
     "data": {
      "text/plain": [
       "6"
      ]
     },
     "execution_count": 201,
     "metadata": {},
     "output_type": "execute_result"
    }
   ],
   "source": [
    "score_list = list_code.values()\n",
    "high_scorer = 0\n",
    "for h in list(list_code.values()):\n",
    "    if h > 80:\n",
    "        high_scorer = high_scorer + 1\n",
    "high_scorer\n",
    "#find scorer higher than 80 => done"
   ]
  },
  {
   "cell_type": "code",
   "execution_count": 194,
   "id": "be1ea28f",
   "metadata": {},
   "outputs": [
    {
     "data": {
      "text/plain": [
       "74.33333333333333"
      ]
     },
     "execution_count": 194,
     "metadata": {},
     "output_type": "execute_result"
    }
   ],
   "source": [
    "max_score=max(score_list)\n",
    "mix_score=min(score_list)\n",
    "average_score = sum(list_code.values())/len(list_code.values())\n",
    "average_score\n",
    "max_score\n",
    "mix_score\n",
    "#find average, min, max score => done"
   ]
  },
  {
   "cell_type": "code",
   "execution_count": 206,
   "id": "324dc1e8",
   "metadata": {},
   "outputs": [
    {
     "data": {
      "text/plain": [
       "73"
      ]
     },
     "execution_count": 206,
     "metadata": {},
     "output_type": "execute_result"
    }
   ],
   "source": [
    "if len(score_list)/2 != 0:\n",
    "    a = int(len(score_list)/2) + 1\n",
    "    med = sorted(score_list)[a]\n",
    "else:\n",
    "    a = int(len(score_list)/2)\n",
    "    b = int(len(score_list)/2) + 1\n",
    "    med = (sorted(score_list[a]) + sorted(score_list[b]))/2\n",
    "\n",
    "med\n",
    "# find median of score list"
   ]
  },
  {
   "cell_type": "code",
   "execution_count": 208,
   "id": "f39b6f4f",
   "metadata": {
    "scrolled": true
   },
   "outputs": [
    {
     "data": {
      "text/plain": [
       "91"
      ]
     },
     "execution_count": 208,
     "metadata": {},
     "output_type": "execute_result"
    }
   ],
   "source": [
    "max(score_list)\n",
    "min(score_list)"
   ]
  },
  {
   "cell_type": "code",
   "execution_count": 198,
   "id": "da237678",
   "metadata": {},
   "outputs": [
    {
     "data": {
      "text/plain": [
       "24"
      ]
     },
     "execution_count": 198,
     "metadata": {},
     "output_type": "execute_result"
    }
   ],
   "source": [
    "len(list_code.values())"
   ]
  },
  {
   "cell_type": "code",
   "execution_count": 209,
   "id": "93a40254",
   "metadata": {},
   "outputs": [
    {
     "data": {
      "text/plain": [
       "8"
      ]
     },
     "execution_count": 209,
     "metadata": {},
     "output_type": "execute_result"
    }
   ],
   "source": [
    "max(wrong_answer)"
   ]
  },
  {
   "cell_type": "code",
   "execution_count": 210,
   "id": "586974cd",
   "metadata": {},
   "outputs": [
    {
     "data": {
      "text/plain": [
       "7"
      ]
     },
     "execution_count": 210,
     "metadata": {},
     "output_type": "execute_result"
    }
   ],
   "source": [
    "max(omitted_answer)"
   ]
  },
  {
   "cell_type": "code",
   "execution_count": 226,
   "id": "2237deb3",
   "metadata": {},
   "outputs": [
    {
     "name": "stdout",
     "output_type": "stream",
     "text": [
      "Number No : 10\n",
      "Number No : 14\n",
      "Number No : 16\n",
      "Number No : 19\n"
     ]
    }
   ],
   "source": [
    "i=0\n",
    "for i in range(25):\n",
    "    if wrong_answer[i] == max(wrong_answer):\n",
    "        print('Number No :', i+1)\n",
    "#find most wrong answers"
   ]
  },
  {
   "cell_type": "code",
   "execution_count": 228,
   "id": "118ee0d2",
   "metadata": {},
   "outputs": [
    {
     "name": "stdout",
     "output_type": "stream",
     "text": [
      "Number No : 11\n"
     ]
    }
   ],
   "source": [
    "i=0\n",
    "for i in range(25):\n",
    "    if omitted_answer[i] == max(omitted_answer):\n",
    "        print('Number No :', i+1)\n",
    "#find most omitted answers"
   ]
  },
  {
   "cell_type": "code",
   "execution_count": 219,
   "id": "ff427165",
   "metadata": {},
   "outputs": [
    {
     "data": {
      "text/plain": [
       "4"
      ]
     },
     "execution_count": 219,
     "metadata": {},
     "output_type": "execute_result"
    }
   ],
   "source": [
    "wrong_answer.count(max(wrong_answer))"
   ]
  },
  {
   "cell_type": "code",
   "execution_count": 216,
   "id": "61efc54d",
   "metadata": {},
   "outputs": [
    {
     "data": {
      "text/plain": [
       "1"
      ]
     },
     "execution_count": 216,
     "metadata": {},
     "output_type": "execute_result"
    }
   ],
   "source": [
    "omitted_answer.count(max(omitted_answer))"
   ]
  },
  {
   "cell_type": "code",
   "execution_count": null,
   "id": "1a8f6b92",
   "metadata": {},
   "outputs": [],
   "source": []
  },
  {
   "cell_type": "code",
   "execution_count": null,
   "id": "027f6c21",
   "metadata": {},
   "outputs": [],
   "source": []
  }
 ],
 "metadata": {
  "kernelspec": {
   "display_name": "Python 3 (ipykernel)",
   "language": "python",
   "name": "python3"
  },
  "language_info": {
   "codemirror_mode": {
    "name": "ipython",
    "version": 3
   },
   "file_extension": ".py",
   "mimetype": "text/x-python",
   "name": "python",
   "nbconvert_exporter": "python",
   "pygments_lexer": "ipython3",
   "version": "3.9.7"
  }
 },
 "nbformat": 4,
 "nbformat_minor": 5
}
