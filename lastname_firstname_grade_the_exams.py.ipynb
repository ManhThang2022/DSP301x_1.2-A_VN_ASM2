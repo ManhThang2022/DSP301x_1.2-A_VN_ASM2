{
 "cells": [
  {
   "cell_type": "code",
   "execution_count": 1,
   "id": "b1b950b4",
   "metadata": {},
   "outputs": [],
   "source": [
    "import re\n",
    "import pandas as pd\n",
    "import numpy as np"
   ]
  },
  {
   "cell_type": "code",
   "execution_count": 3,
   "id": "5708d875",
   "metadata": {},
   "outputs": [
    {
     "name": "stdout",
     "output_type": "stream",
     "text": [
      "['N00000001,A,A,D,D,C,D,D,A,,C,D,B,C,,B,C,B,D,A,C,,A,,C,D\\n', 'N00000002,,A,,D,,B,D,A,C,C,D,,A,A,A,C,B,D,C,C,A,A,B,,D\\n', 'N00000003,B,A,,D,C,B,D,A,C,C,,B,A,B,A,C,B,D,A,,A,,B,D,D\\n', 'N00000004,B,B,D,,,B,D,A,C,C,D,B,A,B,A,C,B,D,,C,A,D,B,C,D\\n', 'N00000005,B,A,,D,,B,D,A,C,C,D,B,A,B,A,C,B,D,D,C,A,A,,D,D\\n', 'N00000006,B,A,D,A,C,B,D,A,C,C,C,B,A,D,A,C,,C,A,C,A,C,B,D,A\\n', 'N00000007,B,A,D,D,C,B,D,A,C,,D,B,A,B,A,C,B,D,,C,A,A,B,D,\\n', 'N00000008,A,A,D,D,C,,D,A,C,C,B,C,A,B,A,A,B,D,A,C,A,,B,B,D\\n', 'N00000009,B,A,,D,C,B,D,A,C,A,D,B,A,B,A,A,B,D,A,C,A,A,B,D,D\\n', 'N00000010,,A,D,B,C,B,D,A,C,C,D,B,A,B,A,C,B,D,A,D,,,B,D,B\\n', 'N00000011,B,A,D,,C,B,D,A,C,D,D,B,A,B,A,C,B,D,A,C,A,B,B,D,D\\n', 'N00000012,B,,D,D,C,B,D,A,C,C,D,B,A,B,A,A,B,D,A,,A,A,A,,C\\n', 'N00000013,,A,D,,B,B,,A,C,A,D,B,A,B,D,C,B,D,A,C,A,A,B,D,D\\n', 'N00000014,B,B,D,D,C,B,,D,C,C,D,B,A,B,A,C,,D,A,C,A,A,,D,D\\n', 'N00000015,A,C,C,D,C,B,,A,C,C,D,B,A,B,A,C,B,D,A,C,A,B,,D,D\\n', 'N00000016,B,A,C,D,,B,D,A,C,C,D,B,A,B,A,C,B,D,A,C,A,A,B,D,D\\n', 'N00000017,B,A,D,D,C,B,C,A,D,C,D,A,A,D,A,C,B,D,D,B,,A,B,D,D\\n', 'N00000018,B,A,D,A,C,B,D,A,C,C,D,B,A,B,,,B,D,A,B,A,A,B,,D\\n', 'N00000019,B,A,D,D,C,B,D,C,C,C,,B,,B,D,C,B,D,A,,A,A,B,D,D\\n', 'N00000020,B,,D,D,C,B,D,A,C,B,,,A,C,A,D,B,D,B,C,A,A,B,D,D\\n', 'N000000203,B,,D,D,C,B,D,A,C,B,,,A,C,A,D,B,D,B,C,A,A,B,D,D\\n', 'N000000204,B,,D,D,C,B,D,A,C,B,,,A,C,A,D,B,D,B,C,A,A,B,D,D,L,K\\n', 'N0000025,B,,D,D,C,B,D,A,C,B,,,A,C,A,D,B,D,B,C,A,A,B,D,D,L,K\\n', 'N0000024,B,,D,D,C,B,D,A,C,B,,,A,C,A,D,B,D,B,C,A,A,B,D,D']\n"
     ]
    }
   ],
   "source": [
    "with open('class1.txt','r') as file1:\n",
    "    FileContent = file1.readlines()\n",
    "    print (FileContent)"
   ]
  },
  {
   "cell_type": "code",
   "execution_count": 2,
   "id": "7df7a939",
   "metadata": {},
   "outputs": [],
   "source": [
    "def read_file(rf):\n",
    "    with open(rf,'r') as file:\n",
    "        data = file.read()\n",
    "    return data\n"
   ]
  },
  {
   "cell_type": "code",
   "execution_count": 29,
   "id": "e9923120",
   "metadata": {},
   "outputs": [
    {
     "name": "stdout",
     "output_type": "stream",
     "text": [
      "Enter class file to grade: class1.txt\n",
      "Successfully opened class1.txt\n"
     ]
    }
   ],
   "source": [
    "try:\n",
    "    filename = input('Enter class file to grade: ')\n",
    "    read_file(filename)\n",
    "    print('Successfully opened {}'.format(filename))\n",
    "except:\n",
    "    print('File cannot be found')\n",
    "#data read as str"
   ]
  },
  {
   "cell_type": "code",
   "execution_count": 4,
   "id": "9c71673f",
   "metadata": {
    "scrolled": true
   },
   "outputs": [],
   "source": [
    "def check_code(dulieu):\n",
    "    regex = ('^N[0-9]{8,8}')\n",
    "    x = re.findall(regex,dulieu)\n",
    "    x = ''.join(x)\n",
    "    if x == '' or len(dulieu)>9:\n",
    "        return True\n",
    "    else:\n",
    "        return False\n",
    "# True: invalid id; False: valid id"
   ]
  },
  {
   "cell_type": "code",
   "execution_count": 35,
   "id": "36908731",
   "metadata": {},
   "outputs": [
    {
     "name": "stdout",
     "output_type": "stream",
     "text": [
      "Enter class file to grade: class1.txt\n",
      "Successfully opened class1.txt\n",
      "Total valid data: 20\n",
      "Total invalid data 4\n",
      "[['Invalid ID: N000000203,B,,D,D,C,B,D,A,C,B,,,A,C,A,D,B,D,B,C,A,A,B,D,D'], ['Invalid answers: N000000204,B,,D,D,C,B,D,A,C,B,,,A,C,A,D,B,D,B,C,A,A,B,D,D,L,K'], ['Invalid answers: N0000025,B,,D,D,C,B,D,A,C,B,,,A,C,A,D,B,D,B,C,A,A,B,D,D,L,K'], ['Invalid ID: N0000024,B,,D,D,C,B,D,A,C,B,,,A,C,A,D,B,D,B,C,A,A,B,D,D']]\n"
     ]
    }
   ],
   "source": [
    "Regex = ('^N[0-9]*')\n",
    "process = 0\n",
    "invalid_line = {}\n",
    "\n",
    "try:\n",
    "    filename = input('Enter class file to grade: ')\n",
    "    data = read_file(filename).split('\\n')\n",
    "    print('Successfully opened {}'.format(filename))\n",
    "    for line in data:\n",
    "            process = process + 1\n",
    "            code = re.findall(Regex,line.split(',')[0])\n",
    "            answers = line.split(',')\n",
    "            if check_code(code) == True:\n",
    "                invalid_line[process] = [('Invalid ID: '+line)]\n",
    "            if len(answers) != 26:\n",
    "                invalid_line[process] = [('Invalid answers: ' +line)]\n",
    "    if len(invalid_line.keys())==0:\n",
    "        print('No errors found! \\n **** REPORT **** \\n Total valid data:', process)\n",
    "    else:\n",
    "        print('Total valid data:', process - len(invalid_line.keys()))\n",
    "        print('Total invalid data', len(invalid_line.keys()))\n",
    "        ReportInvalid = list(invalid_line.values())\n",
    "        print(ReportInvalid)\n",
    "except:\n",
    "    print('File cannot be found')\n",
    "    \n",
    "\n",
    " \n"
   ]
  },
  {
   "cell_type": "code",
   "execution_count": 320,
   "id": "f7c0b989",
   "metadata": {},
   "outputs": [],
   "source": [
    "def score_funtion(filename):\n",
    "    score_list = {}\n",
    "    answer_key = ['B','A','D','D','C','B','D','A','C','C','D','B','A','B','A','C','B','D','A','C','A','A','B','D','D']\n",
    "    wrong_answer = [0,0,0,0,0,0,0,0,0,0,0,0,0,0,0,0,0,0,0,0,0,0,0,0,0]\n",
    "    omitted_answer = [0,0,0,0,0,0,0,0,0,0,0,0,0,0,0,0,0,0,0,0,0,0,0,0,0]\n",
    "    data = read_file(filename).split('\\n')\n",
    "    for line in data:\n",
    "        code = line.split(',')[0]\n",
    "        answers = line.strip().split(',')[1:]\n",
    "        if check_code(code) == False and len(answers) == 25:\n",
    "            score = 0\n",
    "            for x in range(25):\n",
    "                if answers[x] == '':\n",
    "                    omitted_answer[x] = omitted_answer[x] + 1\n",
    "                else:\n",
    "                    if answers[x] == answer_key[x]:\n",
    "                        score = score + 4\n",
    "                    else:\n",
    "                        score = score - 1\n",
    "                        wrong_answer[x] = wrong_answer[x] + 1\n",
    "                score_list[code] = score\n",
    "\n",
    "    return score_list,wrong_answer,omitted_answer\n",
    "       "
   ]
  },
  {
   "cell_type": "code",
   "execution_count": 321,
   "id": "1b91ba65",
   "metadata": {
    "scrolled": true
   },
   "outputs": [
    {
     "data": {
      "text/plain": [
       "({'N00000001': 59,\n",
       "  'N00000002': 70,\n",
       "  'N00000003': 84,\n",
       "  'N00000004': 73,\n",
       "  'N00000005': 83,\n",
       "  'N00000006': 66,\n",
       "  'N00000007': 88,\n",
       "  'N00000008': 67,\n",
       "  'N00000009': 86,\n",
       "  'N00000010': 73,\n",
       "  'N00000011': 86,\n",
       "  'N00000012': 73,\n",
       "  'N00000013': 73,\n",
       "  'N00000014': 78,\n",
       "  'N00000015': 72,\n",
       "  'N00000016': 91,\n",
       "  'N00000017': 66,\n",
       "  'N00000018': 78,\n",
       "  'N00000019': 78,\n",
       "  'N00000020': 68},\n",
       " [3, 3, 2, 3, 1, 1, 1, 2, 1, 4, 2, 2, 1, 4, 3, 4, 0, 1, 4, 3, 0, 4, 1, 3, 3],\n",
       " [3, 2, 4, 3, 4, 1, 3, 0, 1, 1, 3, 2, 1, 1, 1, 1, 2, 0, 2, 3, 3, 3, 4, 3, 1])"
      ]
     },
     "execution_count": 321,
     "metadata": {},
     "output_type": "execute_result"
    }
   ],
   "source": [
    "score_funtion('class1.txt')\n"
   ]
  },
  {
   "cell_type": "code",
   "execution_count": 9,
   "id": "276ccd8c",
   "metadata": {},
   "outputs": [],
   "source": [
    "answer_key = ['B','A','D','D','C','B','D','A','C','C','D','B','A','B','A','C','B','D','A','C','A','A','B','D','D']\n",
    "wrong_answer = [0,0,0,0,0,0,0,0,0,0,0,0,0,0,0,0,0,0,0,0,0,0,0,0,0]\n",
    "omitted_answer = [0,0,0,0,0,0,0,0,0,0,0,0,0,0,0,0,0,0,0,0,0,0,0,0,0]\n",
    "list_code = {}\n",
    "data = read_file('class1.txt').split('\\n')\n",
    "for line in data:\n",
    "    code = line.split(',')[0]\n",
    "    answers = line.strip().split(',')[1:]\n",
    "    score = 0\n",
    "    for x in range(25):\n",
    "        if answers[x] == '':\n",
    "            omitted_answer[x] = omitted_answer[x] + 1\n",
    "        else:\n",
    "            if answers[x] == answer_key[x]:\n",
    "                score = score + 4\n",
    "            else:\n",
    "                score = score - 1\n",
    "                wrong_answer[x] = wrong_answer[x] + 1\n",
    "        list_code[code] = score"
   ]
  },
  {
   "cell_type": "code",
   "execution_count": 164,
   "id": "db241153",
   "metadata": {},
   "outputs": [
    {
     "data": {
      "text/plain": [
       "([3, 6, 4, 3, 4, 1, 3, 0, 1, 1, 7, 6, 1, 1, 1, 1, 2, 0, 2, 3, 3, 3, 4, 3, 1],\n",
       " [3, 3, 2, 3, 1, 1, 1, 2, 1, 8, 2, 2, 1, 8, 3, 8, 0, 1, 8, 3, 0, 4, 1, 3, 3])"
      ]
     },
     "execution_count": 164,
     "metadata": {},
     "output_type": "execute_result"
    }
   ],
   "source": [
    "omitted_answer,wrong_answer"
   ]
  },
  {
   "cell_type": "code",
   "execution_count": 15,
   "id": "de1aeab8",
   "metadata": {},
   "outputs": [
    {
     "data": {
      "text/plain": [
       "6"
      ]
     },
     "execution_count": 15,
     "metadata": {},
     "output_type": "execute_result"
    }
   ],
   "source": [
    "score_list = list(map(float,list_code.values()))\n",
    "high_scorer = 0\n",
    "for h in score_list:\n",
    "    if h > 80:\n",
    "        high_scorer = high_scorer + 1\n",
    "high_scorer\n",
    "#find scorer higher than 80 => done"
   ]
  },
  {
   "cell_type": "code",
   "execution_count": 17,
   "id": "be1ea28f",
   "metadata": {},
   "outputs": [
    {
     "name": "stdout",
     "output_type": "stream",
     "text": [
      "74.33333333333333 91.0 59.0\n"
     ]
    }
   ],
   "source": [
    "max_score=max(score_list)\n",
    "mix_score=min(score_list)\n",
    "average_score = sum(list_code.values())/len(list_code.values())\n",
    "print(average_score,max_score,mix_score)\n",
    "#find average, min, max score => done"
   ]
  },
  {
   "cell_type": "code",
   "execution_count": 18,
   "id": "324dc1e8",
   "metadata": {},
   "outputs": [
    {
     "data": {
      "text/plain": [
       "73.0"
      ]
     },
     "execution_count": 18,
     "metadata": {},
     "output_type": "execute_result"
    }
   ],
   "source": [
    "if len(score_list)/2 != 0:\n",
    "    a = int(len(score_list)/2) + 1\n",
    "    med = sorted(score_list)[a]\n",
    "else:\n",
    "    a = int(len(score_list)/2)\n",
    "    b = int(len(score_list)/2) + 1\n",
    "    med = (sorted(score_list[a]) + sorted(score_list[b]))/2\n",
    "\n",
    "med\n",
    "# find median of score list"
   ]
  },
  {
   "cell_type": "code",
   "execution_count": 20,
   "id": "2237deb3",
   "metadata": {},
   "outputs": [
    {
     "name": "stdout",
     "output_type": "stream",
     "text": [
      "Question that most people skip is Number No : 10 -  8 -  0.32\n",
      "Question that most people skip is Number No : 14 -  8 -  0.32\n",
      "Question that most people skip is Number No : 16 -  8 -  0.32\n",
      "Question that most people skip is Number No : 19 -  8 -  0.32\n"
     ]
    }
   ],
   "source": [
    "i=0\n",
    "for i in range(len(wrong_answer)):\n",
    "    if wrong_answer[i] == max(wrong_answer):\n",
    "        print('Question that most people skip is Number No :', i+1, '- ', max(wrong_answer), '- ', max(wrong_answer)/25)\n",
    "#find most wrong answers"
   ]
  },
  {
   "cell_type": "code",
   "execution_count": 23,
   "id": "118ee0d2",
   "metadata": {},
   "outputs": [
    {
     "name": "stdout",
     "output_type": "stream",
     "text": [
      "Question that most people skip is Number No : 11 -  7 -  0.28\n"
     ]
    }
   ],
   "source": [
    "\n",
    "for i in range(len(omitted_answer)):\n",
    "    if omitted_answer[i] == max(omitted_answer):\n",
    "        print('Question that most people skip is Number No :', i+1, '- ', max(omitted_answer), '- ', max(omitted_answer)/25)\n",
    "#find most omitted answers is number no - people skip - % skip"
   ]
  },
  {
   "cell_type": "markdown",
   "id": "11c1f89b",
   "metadata": {},
   "source": [
    "Task 5: "
   ]
  },
  {
   "cell_type": "code",
   "execution_count": 305,
   "id": "027f6c21",
   "metadata": {},
   "outputs": [
    {
     "name": "stdout",
     "output_type": "stream",
     "text": [
      "Input file name: class1.txt\n",
      "Successful open file class1.txt\n"
     ]
    }
   ],
   "source": [
    "try:\n",
    "    filename = input('Input file name: ')\n",
    "    df = pd.read_csv(filename, sep = ' ',header = None)\n",
    "except:\n",
    "    print('File name invalid')\n",
    "print('Successful open file {}'.format(filename))"
   ]
  },
  {
   "cell_type": "code",
   "execution_count": 306,
   "id": "052bf239",
   "metadata": {},
   "outputs": [],
   "source": [
    "df_score = pd.DataFrame()"
   ]
  },
  {
   "cell_type": "code",
   "execution_count": 307,
   "id": "d7ec849c",
   "metadata": {},
   "outputs": [],
   "source": [
    "df_score[['ID_Number','Score']] = df[0].str.split(',', expand = True, n=1)\n",
    "#Split to check valid data line"
   ]
  },
  {
   "cell_type": "code",
   "execution_count": 308,
   "id": "78a98f38",
   "metadata": {},
   "outputs": [
    {
     "data": {
      "text/html": [
       "<div>\n",
       "<style scoped>\n",
       "    .dataframe tbody tr th:only-of-type {\n",
       "        vertical-align: middle;\n",
       "    }\n",
       "\n",
       "    .dataframe tbody tr th {\n",
       "        vertical-align: top;\n",
       "    }\n",
       "\n",
       "    .dataframe thead th {\n",
       "        text-align: right;\n",
       "    }\n",
       "</style>\n",
       "<table border=\"1\" class=\"dataframe\">\n",
       "  <thead>\n",
       "    <tr style=\"text-align: right;\">\n",
       "      <th></th>\n",
       "      <th>ID_Number</th>\n",
       "      <th>Score</th>\n",
       "    </tr>\n",
       "  </thead>\n",
       "  <tbody>\n",
       "    <tr>\n",
       "      <th>0</th>\n",
       "      <td>N00000001</td>\n",
       "      <td>A,A,D,D,C,D,D,A,,C,D,B,C,,B,C,B,D,A,C,,A,,C,D</td>\n",
       "    </tr>\n",
       "    <tr>\n",
       "      <th>1</th>\n",
       "      <td>N00000002</td>\n",
       "      <td>,A,,D,,B,D,A,C,C,D,,A,A,A,C,B,D,C,C,A,A,B,,D</td>\n",
       "    </tr>\n",
       "    <tr>\n",
       "      <th>2</th>\n",
       "      <td>N00000003</td>\n",
       "      <td>B,A,,D,C,B,D,A,C,C,,B,A,B,A,C,B,D,A,,A,,B,D,D</td>\n",
       "    </tr>\n",
       "    <tr>\n",
       "      <th>3</th>\n",
       "      <td>N00000004</td>\n",
       "      <td>B,B,D,,,B,D,A,C,C,D,B,A,B,A,C,B,D,,C,A,D,B,C,D</td>\n",
       "    </tr>\n",
       "    <tr>\n",
       "      <th>4</th>\n",
       "      <td>N00000005</td>\n",
       "      <td>B,A,,D,,B,D,A,C,C,D,B,A,B,A,C,B,D,D,C,A,A,,D,D</td>\n",
       "    </tr>\n",
       "    <tr>\n",
       "      <th>5</th>\n",
       "      <td>N00000006</td>\n",
       "      <td>B,A,D,A,C,B,D,A,C,C,C,B,A,D,A,C,,C,A,C,A,C,B,D,A</td>\n",
       "    </tr>\n",
       "    <tr>\n",
       "      <th>6</th>\n",
       "      <td>N00000007</td>\n",
       "      <td>B,A,D,D,C,B,D,A,C,,D,B,A,B,A,C,B,D,,C,A,A,B,D,</td>\n",
       "    </tr>\n",
       "    <tr>\n",
       "      <th>7</th>\n",
       "      <td>N00000008</td>\n",
       "      <td>A,A,D,D,C,,D,A,C,C,B,C,A,B,A,A,B,D,A,C,A,,B,B,D</td>\n",
       "    </tr>\n",
       "    <tr>\n",
       "      <th>8</th>\n",
       "      <td>N00000009</td>\n",
       "      <td>B,A,,D,C,B,D,A,C,A,D,B,A,B,A,A,B,D,A,C,A,A,B,D,D</td>\n",
       "    </tr>\n",
       "    <tr>\n",
       "      <th>9</th>\n",
       "      <td>N00000010</td>\n",
       "      <td>,A,D,B,C,B,D,A,C,C,D,B,A,B,A,C,B,D,A,D,,,B,D,B</td>\n",
       "    </tr>\n",
       "    <tr>\n",
       "      <th>10</th>\n",
       "      <td>N00000011</td>\n",
       "      <td>B,A,D,,C,B,D,A,C,D,D,B,A,B,A,C,B,D,A,C,A,B,B,D,D</td>\n",
       "    </tr>\n",
       "    <tr>\n",
       "      <th>11</th>\n",
       "      <td>N00000012</td>\n",
       "      <td>B,,D,D,C,B,D,A,C,C,D,B,A,B,A,A,B,D,A,,A,A,A,,C</td>\n",
       "    </tr>\n",
       "    <tr>\n",
       "      <th>12</th>\n",
       "      <td>N00000013</td>\n",
       "      <td>,A,D,,B,B,,A,C,A,D,B,A,B,D,C,B,D,A,C,A,A,B,D,D</td>\n",
       "    </tr>\n",
       "    <tr>\n",
       "      <th>13</th>\n",
       "      <td>N00000014</td>\n",
       "      <td>B,B,D,D,C,B,,D,C,C,D,B,A,B,A,C,,D,A,C,A,A,,D,D</td>\n",
       "    </tr>\n",
       "    <tr>\n",
       "      <th>14</th>\n",
       "      <td>N00000015</td>\n",
       "      <td>A,C,C,D,C,B,,A,C,C,D,B,A,B,A,C,B,D,A,C,A,B,,D,D</td>\n",
       "    </tr>\n",
       "    <tr>\n",
       "      <th>15</th>\n",
       "      <td>N00000016</td>\n",
       "      <td>B,A,C,D,,B,D,A,C,C,D,B,A,B,A,C,B,D,A,C,A,A,B,D,D</td>\n",
       "    </tr>\n",
       "    <tr>\n",
       "      <th>16</th>\n",
       "      <td>N00000017</td>\n",
       "      <td>B,A,D,D,C,B,C,A,D,C,D,A,A,D,A,C,B,D,D,B,,A,B,D,D</td>\n",
       "    </tr>\n",
       "    <tr>\n",
       "      <th>17</th>\n",
       "      <td>N00000018</td>\n",
       "      <td>B,A,D,A,C,B,D,A,C,C,D,B,A,B,,,B,D,A,B,A,A,B,,D</td>\n",
       "    </tr>\n",
       "    <tr>\n",
       "      <th>18</th>\n",
       "      <td>N00000019</td>\n",
       "      <td>B,A,D,D,C,B,D,C,C,C,,B,,B,D,C,B,D,A,,A,A,B,D,D</td>\n",
       "    </tr>\n",
       "    <tr>\n",
       "      <th>19</th>\n",
       "      <td>N00000020</td>\n",
       "      <td>B,,D,D,C,B,D,A,C,B,,,A,C,A,D,B,D,B,C,A,A,B,D,D</td>\n",
       "    </tr>\n",
       "    <tr>\n",
       "      <th>20</th>\n",
       "      <td>N000000203</td>\n",
       "      <td>B,,D,D,C,B,D,A,C,B,,,A,C,A,D,B,D,B,C,A,A,B,D,D</td>\n",
       "    </tr>\n",
       "    <tr>\n",
       "      <th>21</th>\n",
       "      <td>N000000204</td>\n",
       "      <td>B,,D,D,C,B,D,A,C,B,,,A,C,A,D,B,D,B,C,A,A,B,D,D...</td>\n",
       "    </tr>\n",
       "    <tr>\n",
       "      <th>22</th>\n",
       "      <td>N0000025</td>\n",
       "      <td>B,,D,D,C,B,D,A,C,B,,,A,C,A,D,B,D,B,C,A,A,B,D,D...</td>\n",
       "    </tr>\n",
       "    <tr>\n",
       "      <th>23</th>\n",
       "      <td>N0000024</td>\n",
       "      <td>B,,D,D,C,B,D,A,C,B,,,A,C,A,D,B,D,B,C,A,A,B,D,D</td>\n",
       "    </tr>\n",
       "  </tbody>\n",
       "</table>\n",
       "</div>"
      ],
      "text/plain": [
       "     ID_Number                                              Score\n",
       "0    N00000001      A,A,D,D,C,D,D,A,,C,D,B,C,,B,C,B,D,A,C,,A,,C,D\n",
       "1    N00000002       ,A,,D,,B,D,A,C,C,D,,A,A,A,C,B,D,C,C,A,A,B,,D\n",
       "2    N00000003      B,A,,D,C,B,D,A,C,C,,B,A,B,A,C,B,D,A,,A,,B,D,D\n",
       "3    N00000004     B,B,D,,,B,D,A,C,C,D,B,A,B,A,C,B,D,,C,A,D,B,C,D\n",
       "4    N00000005     B,A,,D,,B,D,A,C,C,D,B,A,B,A,C,B,D,D,C,A,A,,D,D\n",
       "5    N00000006   B,A,D,A,C,B,D,A,C,C,C,B,A,D,A,C,,C,A,C,A,C,B,D,A\n",
       "6    N00000007     B,A,D,D,C,B,D,A,C,,D,B,A,B,A,C,B,D,,C,A,A,B,D,\n",
       "7    N00000008    A,A,D,D,C,,D,A,C,C,B,C,A,B,A,A,B,D,A,C,A,,B,B,D\n",
       "8    N00000009   B,A,,D,C,B,D,A,C,A,D,B,A,B,A,A,B,D,A,C,A,A,B,D,D\n",
       "9    N00000010     ,A,D,B,C,B,D,A,C,C,D,B,A,B,A,C,B,D,A,D,,,B,D,B\n",
       "10   N00000011   B,A,D,,C,B,D,A,C,D,D,B,A,B,A,C,B,D,A,C,A,B,B,D,D\n",
       "11   N00000012     B,,D,D,C,B,D,A,C,C,D,B,A,B,A,A,B,D,A,,A,A,A,,C\n",
       "12   N00000013     ,A,D,,B,B,,A,C,A,D,B,A,B,D,C,B,D,A,C,A,A,B,D,D\n",
       "13   N00000014     B,B,D,D,C,B,,D,C,C,D,B,A,B,A,C,,D,A,C,A,A,,D,D\n",
       "14   N00000015    A,C,C,D,C,B,,A,C,C,D,B,A,B,A,C,B,D,A,C,A,B,,D,D\n",
       "15   N00000016   B,A,C,D,,B,D,A,C,C,D,B,A,B,A,C,B,D,A,C,A,A,B,D,D\n",
       "16   N00000017   B,A,D,D,C,B,C,A,D,C,D,A,A,D,A,C,B,D,D,B,,A,B,D,D\n",
       "17   N00000018     B,A,D,A,C,B,D,A,C,C,D,B,A,B,,,B,D,A,B,A,A,B,,D\n",
       "18   N00000019     B,A,D,D,C,B,D,C,C,C,,B,,B,D,C,B,D,A,,A,A,B,D,D\n",
       "19   N00000020     B,,D,D,C,B,D,A,C,B,,,A,C,A,D,B,D,B,C,A,A,B,D,D\n",
       "20  N000000203     B,,D,D,C,B,D,A,C,B,,,A,C,A,D,B,D,B,C,A,A,B,D,D\n",
       "21  N000000204  B,,D,D,C,B,D,A,C,B,,,A,C,A,D,B,D,B,C,A,A,B,D,D...\n",
       "22    N0000025  B,,D,D,C,B,D,A,C,B,,,A,C,A,D,B,D,B,C,A,A,B,D,D...\n",
       "23    N0000024     B,,D,D,C,B,D,A,C,B,,,A,C,A,D,B,D,B,C,A,A,B,D,D"
      ]
     },
     "execution_count": 308,
     "metadata": {},
     "output_type": "execute_result"
    }
   ],
   "source": [
    "df_score"
   ]
  },
  {
   "cell_type": "code",
   "execution_count": 309,
   "id": "42158cf6",
   "metadata": {},
   "outputs": [],
   "source": [
    "df_error = df_score[((df_score['Score'].str.split(',').apply(lambda x: len(x))) != 25)|(df_score['ID_Number'].apply(lambda x: check_code(x)))]\n",
    "# Invalid data line"
   ]
  },
  {
   "cell_type": "code",
   "execution_count": 310,
   "id": "40264df4",
   "metadata": {},
   "outputs": [],
   "source": [
    "df_Score_check = df_score[((df_score['Score'].str.split(',').apply(lambda x: len(x))) == 25)&(df_score['ID_Number'].apply(lambda x: check_code(x) == False))]\n",
    "# Valid data line"
   ]
  },
  {
   "cell_type": "code",
   "execution_count": 311,
   "id": "41d0f3a0",
   "metadata": {
    "scrolled": false
   },
   "outputs": [],
   "source": [
    "df_Score_check.index = df_Score_check['ID_Number']\n",
    " \n",
    "# Convert ID_Number to index"
   ]
  },
  {
   "cell_type": "code",
   "execution_count": 269,
   "id": "c90cfc13",
   "metadata": {
    "collapsed": true
   },
   "outputs": [
    {
     "data": {
      "text/plain": [
       "[1,\n",
       " 2,\n",
       " 3,\n",
       " 4,\n",
       " 5,\n",
       " 6,\n",
       " 7,\n",
       " 8,\n",
       " 9,\n",
       " 10,\n",
       " 11,\n",
       " 12,\n",
       " 13,\n",
       " 14,\n",
       " 15,\n",
       " 16,\n",
       " 17,\n",
       " 18,\n",
       " 19,\n",
       " 20,\n",
       " 21,\n",
       " 22,\n",
       " 23,\n",
       " 24,\n",
       " 25]"
      ]
     },
     "execution_count": 269,
     "metadata": {},
     "output_type": "execute_result"
    }
   ],
   "source": [
    "m = list(range(1,26))\n",
    "m\n"
   ]
  },
  {
   "cell_type": "code",
   "execution_count": 312,
   "id": "7d940da5",
   "metadata": {
    "collapsed": true
   },
   "outputs": [
    {
     "data": {
      "text/plain": [
       "0     B\n",
       "1     A\n",
       "2     D\n",
       "3     D\n",
       "4     C\n",
       "5     B\n",
       "6     D\n",
       "7     A\n",
       "8     C\n",
       "9     C\n",
       "10    D\n",
       "11    B\n",
       "12    A\n",
       "13    B\n",
       "14    A\n",
       "15    C\n",
       "16    B\n",
       "17    D\n",
       "18    A\n",
       "19    C\n",
       "20    A\n",
       "21    A\n",
       "22    B\n",
       "23    D\n",
       "24    D\n",
       "dtype: object"
      ]
     },
     "execution_count": 312,
     "metadata": {},
     "output_type": "execute_result"
    }
   ],
   "source": [
    "answer_key = pd.Series(['B','A','D','D','C','B','D','A','C','C','D','B','A','B','A','C','B','D','A','C','A','A','B','D','D'])\n",
    "answer_key"
   ]
  },
  {
   "cell_type": "code",
   "execution_count": 313,
   "id": "a874814e",
   "metadata": {},
   "outputs": [],
   "source": [
    "df_answer = df_Score_check['Score'].str.split(',', expand = True, n = 24) \n",
    "\n",
    "# Split answer to columns and change the colunms' name\n",
    "# Only Valid data being process to score"
   ]
  },
  {
   "cell_type": "code",
   "execution_count": 314,
   "id": "27464e6d",
   "metadata": {},
   "outputs": [],
   "source": [
    "df_answer_1 = df_answer.where(df_answer != '',0)\n",
    "# filter omitted answer\n",
    "df_answer_2 = df_answer_1.where(df_answer_1 != answer_key,4)\n",
    "# filter True answer\n",
    "df_scored_final = df_answer_2.replace('\\D',-1,regex = True)\n",
    "# filter False answer"
   ]
  },
  {
   "cell_type": "code",
   "execution_count": 316,
   "id": "3f613812",
   "metadata": {
    "scrolled": true
   },
   "outputs": [
    {
     "data": {
      "text/html": [
       "<div>\n",
       "<style scoped>\n",
       "    .dataframe tbody tr th:only-of-type {\n",
       "        vertical-align: middle;\n",
       "    }\n",
       "\n",
       "    .dataframe tbody tr th {\n",
       "        vertical-align: top;\n",
       "    }\n",
       "\n",
       "    .dataframe thead th {\n",
       "        text-align: right;\n",
       "    }\n",
       "</style>\n",
       "<table border=\"1\" class=\"dataframe\">\n",
       "  <thead>\n",
       "    <tr style=\"text-align: right;\">\n",
       "      <th></th>\n",
       "      <th>0</th>\n",
       "      <th>1</th>\n",
       "      <th>2</th>\n",
       "      <th>3</th>\n",
       "      <th>4</th>\n",
       "      <th>5</th>\n",
       "      <th>6</th>\n",
       "      <th>7</th>\n",
       "      <th>8</th>\n",
       "      <th>9</th>\n",
       "      <th>...</th>\n",
       "      <th>15</th>\n",
       "      <th>16</th>\n",
       "      <th>17</th>\n",
       "      <th>18</th>\n",
       "      <th>19</th>\n",
       "      <th>20</th>\n",
       "      <th>21</th>\n",
       "      <th>22</th>\n",
       "      <th>23</th>\n",
       "      <th>24</th>\n",
       "    </tr>\n",
       "    <tr>\n",
       "      <th>ID_Number</th>\n",
       "      <th></th>\n",
       "      <th></th>\n",
       "      <th></th>\n",
       "      <th></th>\n",
       "      <th></th>\n",
       "      <th></th>\n",
       "      <th></th>\n",
       "      <th></th>\n",
       "      <th></th>\n",
       "      <th></th>\n",
       "      <th></th>\n",
       "      <th></th>\n",
       "      <th></th>\n",
       "      <th></th>\n",
       "      <th></th>\n",
       "      <th></th>\n",
       "      <th></th>\n",
       "      <th></th>\n",
       "      <th></th>\n",
       "      <th></th>\n",
       "      <th></th>\n",
       "    </tr>\n",
       "  </thead>\n",
       "  <tbody>\n",
       "    <tr>\n",
       "      <th>N00000001</th>\n",
       "      <td>-1</td>\n",
       "      <td>4</td>\n",
       "      <td>4</td>\n",
       "      <td>4</td>\n",
       "      <td>4</td>\n",
       "      <td>-1</td>\n",
       "      <td>4</td>\n",
       "      <td>4</td>\n",
       "      <td>0</td>\n",
       "      <td>4</td>\n",
       "      <td>...</td>\n",
       "      <td>4</td>\n",
       "      <td>4</td>\n",
       "      <td>4</td>\n",
       "      <td>4</td>\n",
       "      <td>4</td>\n",
       "      <td>0</td>\n",
       "      <td>4</td>\n",
       "      <td>0</td>\n",
       "      <td>-1</td>\n",
       "      <td>4</td>\n",
       "    </tr>\n",
       "    <tr>\n",
       "      <th>N00000002</th>\n",
       "      <td>0</td>\n",
       "      <td>4</td>\n",
       "      <td>0</td>\n",
       "      <td>4</td>\n",
       "      <td>0</td>\n",
       "      <td>4</td>\n",
       "      <td>4</td>\n",
       "      <td>4</td>\n",
       "      <td>4</td>\n",
       "      <td>4</td>\n",
       "      <td>...</td>\n",
       "      <td>4</td>\n",
       "      <td>4</td>\n",
       "      <td>4</td>\n",
       "      <td>-1</td>\n",
       "      <td>4</td>\n",
       "      <td>4</td>\n",
       "      <td>4</td>\n",
       "      <td>4</td>\n",
       "      <td>0</td>\n",
       "      <td>4</td>\n",
       "    </tr>\n",
       "    <tr>\n",
       "      <th>N00000003</th>\n",
       "      <td>4</td>\n",
       "      <td>4</td>\n",
       "      <td>0</td>\n",
       "      <td>4</td>\n",
       "      <td>4</td>\n",
       "      <td>4</td>\n",
       "      <td>4</td>\n",
       "      <td>4</td>\n",
       "      <td>4</td>\n",
       "      <td>4</td>\n",
       "      <td>...</td>\n",
       "      <td>4</td>\n",
       "      <td>4</td>\n",
       "      <td>4</td>\n",
       "      <td>4</td>\n",
       "      <td>0</td>\n",
       "      <td>4</td>\n",
       "      <td>0</td>\n",
       "      <td>4</td>\n",
       "      <td>4</td>\n",
       "      <td>4</td>\n",
       "    </tr>\n",
       "    <tr>\n",
       "      <th>N00000004</th>\n",
       "      <td>4</td>\n",
       "      <td>-1</td>\n",
       "      <td>4</td>\n",
       "      <td>0</td>\n",
       "      <td>0</td>\n",
       "      <td>4</td>\n",
       "      <td>4</td>\n",
       "      <td>4</td>\n",
       "      <td>4</td>\n",
       "      <td>4</td>\n",
       "      <td>...</td>\n",
       "      <td>4</td>\n",
       "      <td>4</td>\n",
       "      <td>4</td>\n",
       "      <td>0</td>\n",
       "      <td>4</td>\n",
       "      <td>4</td>\n",
       "      <td>-1</td>\n",
       "      <td>4</td>\n",
       "      <td>-1</td>\n",
       "      <td>4</td>\n",
       "    </tr>\n",
       "    <tr>\n",
       "      <th>N00000005</th>\n",
       "      <td>4</td>\n",
       "      <td>4</td>\n",
       "      <td>0</td>\n",
       "      <td>4</td>\n",
       "      <td>0</td>\n",
       "      <td>4</td>\n",
       "      <td>4</td>\n",
       "      <td>4</td>\n",
       "      <td>4</td>\n",
       "      <td>4</td>\n",
       "      <td>...</td>\n",
       "      <td>4</td>\n",
       "      <td>4</td>\n",
       "      <td>4</td>\n",
       "      <td>-1</td>\n",
       "      <td>4</td>\n",
       "      <td>4</td>\n",
       "      <td>4</td>\n",
       "      <td>0</td>\n",
       "      <td>4</td>\n",
       "      <td>4</td>\n",
       "    </tr>\n",
       "    <tr>\n",
       "      <th>N00000006</th>\n",
       "      <td>4</td>\n",
       "      <td>4</td>\n",
       "      <td>4</td>\n",
       "      <td>-1</td>\n",
       "      <td>4</td>\n",
       "      <td>4</td>\n",
       "      <td>4</td>\n",
       "      <td>4</td>\n",
       "      <td>4</td>\n",
       "      <td>4</td>\n",
       "      <td>...</td>\n",
       "      <td>4</td>\n",
       "      <td>0</td>\n",
       "      <td>-1</td>\n",
       "      <td>4</td>\n",
       "      <td>4</td>\n",
       "      <td>4</td>\n",
       "      <td>-1</td>\n",
       "      <td>4</td>\n",
       "      <td>4</td>\n",
       "      <td>-1</td>\n",
       "    </tr>\n",
       "    <tr>\n",
       "      <th>N00000007</th>\n",
       "      <td>4</td>\n",
       "      <td>4</td>\n",
       "      <td>4</td>\n",
       "      <td>4</td>\n",
       "      <td>4</td>\n",
       "      <td>4</td>\n",
       "      <td>4</td>\n",
       "      <td>4</td>\n",
       "      <td>4</td>\n",
       "      <td>0</td>\n",
       "      <td>...</td>\n",
       "      <td>4</td>\n",
       "      <td>4</td>\n",
       "      <td>4</td>\n",
       "      <td>0</td>\n",
       "      <td>4</td>\n",
       "      <td>4</td>\n",
       "      <td>4</td>\n",
       "      <td>4</td>\n",
       "      <td>4</td>\n",
       "      <td>0</td>\n",
       "    </tr>\n",
       "    <tr>\n",
       "      <th>N00000008</th>\n",
       "      <td>-1</td>\n",
       "      <td>4</td>\n",
       "      <td>4</td>\n",
       "      <td>4</td>\n",
       "      <td>4</td>\n",
       "      <td>0</td>\n",
       "      <td>4</td>\n",
       "      <td>4</td>\n",
       "      <td>4</td>\n",
       "      <td>4</td>\n",
       "      <td>...</td>\n",
       "      <td>-1</td>\n",
       "      <td>4</td>\n",
       "      <td>4</td>\n",
       "      <td>4</td>\n",
       "      <td>4</td>\n",
       "      <td>4</td>\n",
       "      <td>0</td>\n",
       "      <td>4</td>\n",
       "      <td>-1</td>\n",
       "      <td>4</td>\n",
       "    </tr>\n",
       "    <tr>\n",
       "      <th>N00000009</th>\n",
       "      <td>4</td>\n",
       "      <td>4</td>\n",
       "      <td>0</td>\n",
       "      <td>4</td>\n",
       "      <td>4</td>\n",
       "      <td>4</td>\n",
       "      <td>4</td>\n",
       "      <td>4</td>\n",
       "      <td>4</td>\n",
       "      <td>-1</td>\n",
       "      <td>...</td>\n",
       "      <td>-1</td>\n",
       "      <td>4</td>\n",
       "      <td>4</td>\n",
       "      <td>4</td>\n",
       "      <td>4</td>\n",
       "      <td>4</td>\n",
       "      <td>4</td>\n",
       "      <td>4</td>\n",
       "      <td>4</td>\n",
       "      <td>4</td>\n",
       "    </tr>\n",
       "    <tr>\n",
       "      <th>N00000010</th>\n",
       "      <td>0</td>\n",
       "      <td>4</td>\n",
       "      <td>4</td>\n",
       "      <td>-1</td>\n",
       "      <td>4</td>\n",
       "      <td>4</td>\n",
       "      <td>4</td>\n",
       "      <td>4</td>\n",
       "      <td>4</td>\n",
       "      <td>4</td>\n",
       "      <td>...</td>\n",
       "      <td>4</td>\n",
       "      <td>4</td>\n",
       "      <td>4</td>\n",
       "      <td>4</td>\n",
       "      <td>-1</td>\n",
       "      <td>0</td>\n",
       "      <td>0</td>\n",
       "      <td>4</td>\n",
       "      <td>4</td>\n",
       "      <td>-1</td>\n",
       "    </tr>\n",
       "    <tr>\n",
       "      <th>N00000011</th>\n",
       "      <td>4</td>\n",
       "      <td>4</td>\n",
       "      <td>4</td>\n",
       "      <td>0</td>\n",
       "      <td>4</td>\n",
       "      <td>4</td>\n",
       "      <td>4</td>\n",
       "      <td>4</td>\n",
       "      <td>4</td>\n",
       "      <td>-1</td>\n",
       "      <td>...</td>\n",
       "      <td>4</td>\n",
       "      <td>4</td>\n",
       "      <td>4</td>\n",
       "      <td>4</td>\n",
       "      <td>4</td>\n",
       "      <td>4</td>\n",
       "      <td>-1</td>\n",
       "      <td>4</td>\n",
       "      <td>4</td>\n",
       "      <td>4</td>\n",
       "    </tr>\n",
       "    <tr>\n",
       "      <th>N00000012</th>\n",
       "      <td>4</td>\n",
       "      <td>0</td>\n",
       "      <td>4</td>\n",
       "      <td>4</td>\n",
       "      <td>4</td>\n",
       "      <td>4</td>\n",
       "      <td>4</td>\n",
       "      <td>4</td>\n",
       "      <td>4</td>\n",
       "      <td>4</td>\n",
       "      <td>...</td>\n",
       "      <td>-1</td>\n",
       "      <td>4</td>\n",
       "      <td>4</td>\n",
       "      <td>4</td>\n",
       "      <td>0</td>\n",
       "      <td>4</td>\n",
       "      <td>4</td>\n",
       "      <td>-1</td>\n",
       "      <td>0</td>\n",
       "      <td>-1</td>\n",
       "    </tr>\n",
       "    <tr>\n",
       "      <th>N00000013</th>\n",
       "      <td>0</td>\n",
       "      <td>4</td>\n",
       "      <td>4</td>\n",
       "      <td>0</td>\n",
       "      <td>-1</td>\n",
       "      <td>4</td>\n",
       "      <td>0</td>\n",
       "      <td>4</td>\n",
       "      <td>4</td>\n",
       "      <td>-1</td>\n",
       "      <td>...</td>\n",
       "      <td>4</td>\n",
       "      <td>4</td>\n",
       "      <td>4</td>\n",
       "      <td>4</td>\n",
       "      <td>4</td>\n",
       "      <td>4</td>\n",
       "      <td>4</td>\n",
       "      <td>4</td>\n",
       "      <td>4</td>\n",
       "      <td>4</td>\n",
       "    </tr>\n",
       "    <tr>\n",
       "      <th>N00000014</th>\n",
       "      <td>4</td>\n",
       "      <td>-1</td>\n",
       "      <td>4</td>\n",
       "      <td>4</td>\n",
       "      <td>4</td>\n",
       "      <td>4</td>\n",
       "      <td>0</td>\n",
       "      <td>-1</td>\n",
       "      <td>4</td>\n",
       "      <td>4</td>\n",
       "      <td>...</td>\n",
       "      <td>4</td>\n",
       "      <td>0</td>\n",
       "      <td>4</td>\n",
       "      <td>4</td>\n",
       "      <td>4</td>\n",
       "      <td>4</td>\n",
       "      <td>4</td>\n",
       "      <td>0</td>\n",
       "      <td>4</td>\n",
       "      <td>4</td>\n",
       "    </tr>\n",
       "    <tr>\n",
       "      <th>N00000015</th>\n",
       "      <td>-1</td>\n",
       "      <td>-1</td>\n",
       "      <td>-1</td>\n",
       "      <td>4</td>\n",
       "      <td>4</td>\n",
       "      <td>4</td>\n",
       "      <td>0</td>\n",
       "      <td>4</td>\n",
       "      <td>4</td>\n",
       "      <td>4</td>\n",
       "      <td>...</td>\n",
       "      <td>4</td>\n",
       "      <td>4</td>\n",
       "      <td>4</td>\n",
       "      <td>4</td>\n",
       "      <td>4</td>\n",
       "      <td>4</td>\n",
       "      <td>-1</td>\n",
       "      <td>0</td>\n",
       "      <td>4</td>\n",
       "      <td>4</td>\n",
       "    </tr>\n",
       "    <tr>\n",
       "      <th>N00000016</th>\n",
       "      <td>4</td>\n",
       "      <td>4</td>\n",
       "      <td>-1</td>\n",
       "      <td>4</td>\n",
       "      <td>0</td>\n",
       "      <td>4</td>\n",
       "      <td>4</td>\n",
       "      <td>4</td>\n",
       "      <td>4</td>\n",
       "      <td>4</td>\n",
       "      <td>...</td>\n",
       "      <td>4</td>\n",
       "      <td>4</td>\n",
       "      <td>4</td>\n",
       "      <td>4</td>\n",
       "      <td>4</td>\n",
       "      <td>4</td>\n",
       "      <td>4</td>\n",
       "      <td>4</td>\n",
       "      <td>4</td>\n",
       "      <td>4</td>\n",
       "    </tr>\n",
       "    <tr>\n",
       "      <th>N00000017</th>\n",
       "      <td>4</td>\n",
       "      <td>4</td>\n",
       "      <td>4</td>\n",
       "      <td>4</td>\n",
       "      <td>4</td>\n",
       "      <td>4</td>\n",
       "      <td>-1</td>\n",
       "      <td>4</td>\n",
       "      <td>-1</td>\n",
       "      <td>4</td>\n",
       "      <td>...</td>\n",
       "      <td>4</td>\n",
       "      <td>4</td>\n",
       "      <td>4</td>\n",
       "      <td>-1</td>\n",
       "      <td>-1</td>\n",
       "      <td>0</td>\n",
       "      <td>4</td>\n",
       "      <td>4</td>\n",
       "      <td>4</td>\n",
       "      <td>4</td>\n",
       "    </tr>\n",
       "    <tr>\n",
       "      <th>N00000018</th>\n",
       "      <td>4</td>\n",
       "      <td>4</td>\n",
       "      <td>4</td>\n",
       "      <td>-1</td>\n",
       "      <td>4</td>\n",
       "      <td>4</td>\n",
       "      <td>4</td>\n",
       "      <td>4</td>\n",
       "      <td>4</td>\n",
       "      <td>4</td>\n",
       "      <td>...</td>\n",
       "      <td>0</td>\n",
       "      <td>4</td>\n",
       "      <td>4</td>\n",
       "      <td>4</td>\n",
       "      <td>-1</td>\n",
       "      <td>4</td>\n",
       "      <td>4</td>\n",
       "      <td>4</td>\n",
       "      <td>0</td>\n",
       "      <td>4</td>\n",
       "    </tr>\n",
       "    <tr>\n",
       "      <th>N00000019</th>\n",
       "      <td>4</td>\n",
       "      <td>4</td>\n",
       "      <td>4</td>\n",
       "      <td>4</td>\n",
       "      <td>4</td>\n",
       "      <td>4</td>\n",
       "      <td>4</td>\n",
       "      <td>-1</td>\n",
       "      <td>4</td>\n",
       "      <td>4</td>\n",
       "      <td>...</td>\n",
       "      <td>4</td>\n",
       "      <td>4</td>\n",
       "      <td>4</td>\n",
       "      <td>4</td>\n",
       "      <td>0</td>\n",
       "      <td>4</td>\n",
       "      <td>4</td>\n",
       "      <td>4</td>\n",
       "      <td>4</td>\n",
       "      <td>4</td>\n",
       "    </tr>\n",
       "    <tr>\n",
       "      <th>N00000020</th>\n",
       "      <td>4</td>\n",
       "      <td>0</td>\n",
       "      <td>4</td>\n",
       "      <td>4</td>\n",
       "      <td>4</td>\n",
       "      <td>4</td>\n",
       "      <td>4</td>\n",
       "      <td>4</td>\n",
       "      <td>4</td>\n",
       "      <td>-1</td>\n",
       "      <td>...</td>\n",
       "      <td>-1</td>\n",
       "      <td>4</td>\n",
       "      <td>4</td>\n",
       "      <td>-1</td>\n",
       "      <td>4</td>\n",
       "      <td>4</td>\n",
       "      <td>4</td>\n",
       "      <td>4</td>\n",
       "      <td>4</td>\n",
       "      <td>4</td>\n",
       "    </tr>\n",
       "  </tbody>\n",
       "</table>\n",
       "<p>20 rows × 25 columns</p>\n",
       "</div>"
      ],
      "text/plain": [
       "           0   1   2   3   4   5   6   7   8   9   ...  15 16  17  18  19 20  \\\n",
       "ID_Number                                          ...                         \n",
       "N00000001  -1   4   4   4   4  -1   4   4   0   4  ...   4  4   4   4   4  0   \n",
       "N00000002   0   4   0   4   0   4   4   4   4   4  ...   4  4   4  -1   4  4   \n",
       "N00000003   4   4   0   4   4   4   4   4   4   4  ...   4  4   4   4   0  4   \n",
       "N00000004   4  -1   4   0   0   4   4   4   4   4  ...   4  4   4   0   4  4   \n",
       "N00000005   4   4   0   4   0   4   4   4   4   4  ...   4  4   4  -1   4  4   \n",
       "N00000006   4   4   4  -1   4   4   4   4   4   4  ...   4  0  -1   4   4  4   \n",
       "N00000007   4   4   4   4   4   4   4   4   4   0  ...   4  4   4   0   4  4   \n",
       "N00000008  -1   4   4   4   4   0   4   4   4   4  ...  -1  4   4   4   4  4   \n",
       "N00000009   4   4   0   4   4   4   4   4   4  -1  ...  -1  4   4   4   4  4   \n",
       "N00000010   0   4   4  -1   4   4   4   4   4   4  ...   4  4   4   4  -1  0   \n",
       "N00000011   4   4   4   0   4   4   4   4   4  -1  ...   4  4   4   4   4  4   \n",
       "N00000012   4   0   4   4   4   4   4   4   4   4  ...  -1  4   4   4   0  4   \n",
       "N00000013   0   4   4   0  -1   4   0   4   4  -1  ...   4  4   4   4   4  4   \n",
       "N00000014   4  -1   4   4   4   4   0  -1   4   4  ...   4  0   4   4   4  4   \n",
       "N00000015  -1  -1  -1   4   4   4   0   4   4   4  ...   4  4   4   4   4  4   \n",
       "N00000016   4   4  -1   4   0   4   4   4   4   4  ...   4  4   4   4   4  4   \n",
       "N00000017   4   4   4   4   4   4  -1   4  -1   4  ...   4  4   4  -1  -1  0   \n",
       "N00000018   4   4   4  -1   4   4   4   4   4   4  ...   0  4   4   4  -1  4   \n",
       "N00000019   4   4   4   4   4   4   4  -1   4   4  ...   4  4   4   4   0  4   \n",
       "N00000020   4   0   4   4   4   4   4   4   4  -1  ...  -1  4   4  -1   4  4   \n",
       "\n",
       "           21  22  23  24  \n",
       "ID_Number                  \n",
       "N00000001   4   0  -1   4  \n",
       "N00000002   4   4   0   4  \n",
       "N00000003   0   4   4   4  \n",
       "N00000004  -1   4  -1   4  \n",
       "N00000005   4   0   4   4  \n",
       "N00000006  -1   4   4  -1  \n",
       "N00000007   4   4   4   0  \n",
       "N00000008   0   4  -1   4  \n",
       "N00000009   4   4   4   4  \n",
       "N00000010   0   4   4  -1  \n",
       "N00000011  -1   4   4   4  \n",
       "N00000012   4  -1   0  -1  \n",
       "N00000013   4   4   4   4  \n",
       "N00000014   4   0   4   4  \n",
       "N00000015  -1   0   4   4  \n",
       "N00000016   4   4   4   4  \n",
       "N00000017   4   4   4   4  \n",
       "N00000018   4   4   0   4  \n",
       "N00000019   4   4   4   4  \n",
       "N00000020   4   4   4   4  \n",
       "\n",
       "[20 rows x 25 columns]"
      ]
     },
     "execution_count": 316,
     "metadata": {},
     "output_type": "execute_result"
    }
   ],
   "source": [
    "df_scored_final"
   ]
  },
  {
   "cell_type": "code",
   "execution_count": 324,
   "id": "896c47d9",
   "metadata": {
    "collapsed": true
   },
   "outputs": [
    {
     "data": {
      "text/plain": [
       "0     3\n",
       "1     2\n",
       "2     4\n",
       "3     3\n",
       "4     4\n",
       "5     1\n",
       "6     3\n",
       "7     0\n",
       "8     1\n",
       "9     1\n",
       "10    3\n",
       "11    2\n",
       "12    1\n",
       "13    1\n",
       "14    1\n",
       "15    1\n",
       "16    2\n",
       "17    0\n",
       "18    2\n",
       "19    3\n",
       "20    3\n",
       "21    3\n",
       "22    4\n",
       "23    3\n",
       "24    1\n",
       "dtype: int64"
      ]
     },
     "execution_count": 324,
     "metadata": {},
     "output_type": "execute_result"
    }
   ],
   "source": [
    "omited_answer_pd = df_scored_final.apply(lambda x: (x==0).sum(), axis = 'index')\n",
    "omited_answer_pd\n",
    "\n",
    "#omited answer"
   ]
  },
  {
   "cell_type": "code",
   "execution_count": 323,
   "id": "47119d60",
   "metadata": {
    "collapsed": true
   },
   "outputs": [
    {
     "data": {
      "text/plain": [
       "0     3\n",
       "1     3\n",
       "2     2\n",
       "3     3\n",
       "4     1\n",
       "5     1\n",
       "6     1\n",
       "7     2\n",
       "8     1\n",
       "9     4\n",
       "10    2\n",
       "11    2\n",
       "12    1\n",
       "13    4\n",
       "14    3\n",
       "15    4\n",
       "16    0\n",
       "17    1\n",
       "18    4\n",
       "19    3\n",
       "20    0\n",
       "21    4\n",
       "22    1\n",
       "23    3\n",
       "24    3\n",
       "dtype: int64"
      ]
     },
     "execution_count": 323,
     "metadata": {},
     "output_type": "execute_result"
    }
   ],
   "source": [
    "wrong_answer_pd = df_scored_final.apply(lambda x: (x==-1).sum(), axis = 'index')\n",
    "wrong_answer_pd\n",
    "\n",
    "#wrong answer"
   ]
  },
  {
   "cell_type": "code",
   "execution_count": 325,
   "id": "3501258f",
   "metadata": {
    "collapsed": true
   },
   "outputs": [
    {
     "data": {
      "text/plain": [
       "0     True\n",
       "1     True\n",
       "2     True\n",
       "3     True\n",
       "4     True\n",
       "5     True\n",
       "6     True\n",
       "7     True\n",
       "8     True\n",
       "9     True\n",
       "10    True\n",
       "11    True\n",
       "12    True\n",
       "13    True\n",
       "14    True\n",
       "15    True\n",
       "16    True\n",
       "17    True\n",
       "18    True\n",
       "19    True\n",
       "20    True\n",
       "21    True\n",
       "22    True\n",
       "23    True\n",
       "24    True\n",
       "dtype: bool"
      ]
     },
     "execution_count": 325,
     "metadata": {},
     "output_type": "execute_result"
    }
   ],
   "source": [
    "wrong_answer_pd == wrong_answer"
   ]
  },
  {
   "cell_type": "code",
   "execution_count": 327,
   "id": "310819a2",
   "metadata": {
    "collapsed": true
   },
   "outputs": [
    {
     "data": {
      "text/plain": [
       "ID_Number\n",
       "N00000001    59\n",
       "N00000002    70\n",
       "N00000003    84\n",
       "N00000004    73\n",
       "N00000005    83\n",
       "N00000006    66\n",
       "N00000007    88\n",
       "N00000008    67\n",
       "N00000009    86\n",
       "N00000010    73\n",
       "N00000011    86\n",
       "N00000012    73\n",
       "N00000013    73\n",
       "N00000014    78\n",
       "N00000015    72\n",
       "N00000016    91\n",
       "N00000017    66\n",
       "N00000018    78\n",
       "N00000019    78\n",
       "N00000020    68\n",
       "dtype: int64"
      ]
     },
     "execution_count": 327,
     "metadata": {},
     "output_type": "execute_result"
    }
   ],
   "source": [
    "Student_score = omited_answer_pd = df_scored_final.apply(lambda x: sum(x), axis = 1)\n",
    "Student_score"
   ]
  },
  {
   "cell_type": "code",
   "execution_count": 345,
   "id": "d70b6f18",
   "metadata": {},
   "outputs": [
    {
     "data": {
      "text/plain": [
       "array([59., 70., 84., 73., 83., 66., 88., 67., 86., 73., 86., 73., 73.,\n",
       "       78., 72., 91., 66., 78., 78., 68., 68., 68., 68., 68.])"
      ]
     },
     "execution_count": 345,
     "metadata": {},
     "output_type": "execute_result"
    }
   ],
   "source": [
    "a = np.asarray(Student_score)\n",
    "a"
   ]
  },
  {
   "cell_type": "code",
   "execution_count": 347,
   "id": "2dadfa73",
   "metadata": {},
   "outputs": [
    {
     "data": {
      "text/plain": [
       "91.0"
      ]
     },
     "execution_count": 347,
     "metadata": {},
     "output_type": "execute_result"
    }
   ],
   "source": [
    "a.max()"
   ]
  },
  {
   "cell_type": "code",
   "execution_count": 349,
   "id": "b3c09913",
   "metadata": {},
   "outputs": [
    {
     "data": {
      "text/plain": [
       "74.33333333333333"
      ]
     },
     "execution_count": 349,
     "metadata": {},
     "output_type": "execute_result"
    }
   ],
   "source": [
    "a.mean()"
   ]
  },
  {
   "cell_type": "code",
   "execution_count": 353,
   "id": "4cca4897",
   "metadata": {},
   "outputs": [
    {
     "data": {
      "text/plain": [
       "73.0"
      ]
     },
     "execution_count": 353,
     "metadata": {},
     "output_type": "execute_result"
    }
   ],
   "source": [
    "np.median(a)"
   ]
  },
  {
   "cell_type": "code",
   "execution_count": 354,
   "id": "52ec8a90",
   "metadata": {},
   "outputs": [
    {
     "data": {
      "text/plain": [
       "91.0"
      ]
     },
     "execution_count": 354,
     "metadata": {},
     "output_type": "execute_result"
    }
   ],
   "source": [
    "np.max(a)"
   ]
  },
  {
   "cell_type": "code",
   "execution_count": null,
   "id": "f81f4730",
   "metadata": {},
   "outputs": [],
   "source": []
  }
 ],
 "metadata": {
  "kernelspec": {
   "display_name": "Python 3 (ipykernel)",
   "language": "python",
   "name": "python3"
  },
  "language_info": {
   "codemirror_mode": {
    "name": "ipython",
    "version": 3
   },
   "file_extension": ".py",
   "mimetype": "text/x-python",
   "name": "python",
   "nbconvert_exporter": "python",
   "pygments_lexer": "ipython3",
   "version": "3.9.7"
  }
 },
 "nbformat": 4,
 "nbformat_minor": 5
}
